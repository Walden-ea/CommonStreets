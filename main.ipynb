{
 "cells": [
  {
   "cell_type": "code",
   "execution_count": 112,
   "metadata": {},
   "outputs": [],
   "source": [
    "import pandas as pd"
   ]
  },
  {
   "cell_type": "code",
   "execution_count": 113,
   "metadata": {},
   "outputs": [],
   "source": [
    "def clean_street_file(filename):\n",
    "    df = pd.read_csv(filename + \".csv\")\n",
    "    df = df.drop_duplicates(\"name\")\n",
    "    df['name'] = df['name'].str.lower()\n",
    "    reg_expr = 'улица|переулок|аллея|бульвар|проспект|шоссе|автодорога|проезд|тракт'\n",
    "    df_clean = df[df['name'].str.contains(reg_expr, regex='True')]\n",
    "    df_clean['name'] = df_clean['name'].str.replace(reg_expr,'',regex=True).str.strip()\n",
    "    df_clean = df_clean.drop_duplicates(\"name\")\n",
    "    #df_clean.loc[df_clean['name'][-2:] =='ая','name'] = df_clean['name'][:-2]\n",
    "    df_clean.loc[df_clean['name'].str.endswith(('ая','ий', 'ое','ее')),'name'] = df_clean['name'].str[:-2]\n",
    "    df_clean = df_clean.drop_duplicates(\"name\")\n",
    "    # print(df_clean)\n",
    "    return df_clean"
   ]
  },
  {
   "cell_type": "markdown",
   "metadata": {},
   "source": []
  },
  {
   "cell_type": "code",
   "execution_count": 114,
   "metadata": {},
   "outputs": [
    {
     "name": "stderr",
     "output_type": "stream",
     "text": [
      "C:\\Users\\Elena\\AppData\\Local\\Temp\\ipykernel_18092\\3326586995.py:7: SettingWithCopyWarning: \n",
      "A value is trying to be set on a copy of a slice from a DataFrame.\n",
      "Try using .loc[row_indexer,col_indexer] = value instead\n",
      "\n",
      "See the caveats in the documentation: https://pandas.pydata.org/pandas-docs/stable/user_guide/indexing.html#returning-a-view-versus-a-copy\n",
      "  df_clean['name'] = df_clean['name'].str.replace(reg_expr,'',regex=True).str.strip()\n",
      "C:\\Users\\Elena\\AppData\\Local\\Temp\\ipykernel_18092\\3326586995.py:7: SettingWithCopyWarning: \n",
      "A value is trying to be set on a copy of a slice from a DataFrame.\n",
      "Try using .loc[row_indexer,col_indexer] = value instead\n",
      "\n",
      "See the caveats in the documentation: https://pandas.pydata.org/pandas-docs/stable/user_guide/indexing.html#returning-a-view-versus-a-copy\n",
      "  df_clean['name'] = df_clean['name'].str.replace(reg_expr,'',regex=True).str.strip()\n",
      "C:\\Users\\Elena\\AppData\\Local\\Temp\\ipykernel_18092\\3326586995.py:7: SettingWithCopyWarning: \n",
      "A value is trying to be set on a copy of a slice from a DataFrame.\n",
      "Try using .loc[row_indexer,col_indexer] = value instead\n",
      "\n",
      "See the caveats in the documentation: https://pandas.pydata.org/pandas-docs/stable/user_guide/indexing.html#returning-a-view-versus-a-copy\n",
      "  df_clean['name'] = df_clean['name'].str.replace(reg_expr,'',regex=True).str.strip()\n",
      "C:\\Users\\Elena\\AppData\\Local\\Temp\\ipykernel_18092\\3326586995.py:7: SettingWithCopyWarning: \n",
      "A value is trying to be set on a copy of a slice from a DataFrame.\n",
      "Try using .loc[row_indexer,col_indexer] = value instead\n",
      "\n",
      "See the caveats in the documentation: https://pandas.pydata.org/pandas-docs/stable/user_guide/indexing.html#returning-a-view-versus-a-copy\n",
      "  df_clean['name'] = df_clean['name'].str.replace(reg_expr,'',regex=True).str.strip()\n",
      "C:\\Users\\Elena\\AppData\\Local\\Temp\\ipykernel_18092\\3326586995.py:7: SettingWithCopyWarning: \n",
      "A value is trying to be set on a copy of a slice from a DataFrame.\n",
      "Try using .loc[row_indexer,col_indexer] = value instead\n",
      "\n",
      "See the caveats in the documentation: https://pandas.pydata.org/pandas-docs/stable/user_guide/indexing.html#returning-a-view-versus-a-copy\n",
      "  df_clean['name'] = df_clean['name'].str.replace(reg_expr,'',regex=True).str.strip()\n",
      "C:\\Users\\Elena\\AppData\\Local\\Temp\\ipykernel_18092\\3326586995.py:7: SettingWithCopyWarning: \n",
      "A value is trying to be set on a copy of a slice from a DataFrame.\n",
      "Try using .loc[row_indexer,col_indexer] = value instead\n",
      "\n",
      "See the caveats in the documentation: https://pandas.pydata.org/pandas-docs/stable/user_guide/indexing.html#returning-a-view-versus-a-copy\n",
      "  df_clean['name'] = df_clean['name'].str.replace(reg_expr,'',regex=True).str.strip()\n"
     ]
    }
   ],
   "source": [
    "chelni = clean_street_file('chelni')\n",
    "chelyabinsk = clean_street_file('chelyabinsk')\n",
    "rostov = clean_street_file('rostov')\n",
    "ekaterinburg = clean_street_file('ekaterinburg')\n",
    "moscow = clean_street_file('moscow')\n",
    "petersburg = clean_street_file('petersburg')\n"
   ]
  },
  {
   "cell_type": "code",
   "execution_count": 115,
   "metadata": {},
   "outputs": [],
   "source": [
    "dict = {'chelni': chelni,\n",
    "        'chelyabinsk': chelyabinsk,\n",
    "        'ekaterinburg': ekaterinburg,\n",
    "        'moscow': moscow,\n",
    "        'petersburg': petersburg,\n",
    "        'rostov': rostov}\n",
    "\n",
    "#dict['chelni']\n"
   ]
  },
  {
   "cell_type": "code",
   "execution_count": 116,
   "metadata": {},
   "outputs": [],
   "source": [
    "streets = {}\n",
    "for name, city in dict.items():\n",
    "    for index, row in city.iterrows():\n",
    "        if row['name'] in streets:\n",
    "            streets[row['name']] += 1\n",
    "        # elif row['name'][:-2]+'ий' in streets:\n",
    "        #     streets[row['name'][:-2]+'ий'] += 1\n",
    "        # elif row['name'][:-2]+'ая' in streets:\n",
    "        #     streets[row['name'][:-2]+'ая'] += 1\n",
    "        else: \n",
    "            streets[row['name']] = 1\n"
   ]
  },
  {
   "cell_type": "code",
   "execution_count": 117,
   "metadata": {},
   "outputs": [
    {
     "name": "stdout",
     "output_type": "stream",
     "text": [
      "энтузиастов\n",
      "тих\n",
      "южн\n",
      "западн\n",
      "чкалова\n",
      "звёздн\n",
      "васильков\n",
      "дорожн\n",
      "ленинградск\n",
      "широк\n",
      "зелён\n",
      "озёрн\n",
      "дачн\n",
      "нов\n",
      "победы\n",
      "тимирязева\n",
      "энергетиков\n",
      "инженерн\n",
      "дружбы\n",
      "чехова\n",
      "добролюбова\n",
      "чернышевского\n",
      "орджоникидзе\n",
      "советск\n",
      "коммунистическ\n",
      "школьн\n",
      "чайковского\n",
      "крупской\n",
      "дзержинского\n",
      "ленина\n",
      "полев\n",
      "московск\n",
      "мира\n",
      "маяковского\n",
      "центральн\n",
      "нагорн\n",
      "фрунзе\n",
      "набережн\n",
      "орловск\n",
      "казанск\n"
     ]
    }
   ],
   "source": [
    "list = sorted(streets.items(), key=lambda item: item[1])\n",
    "list.reverse()\n",
    "\n",
    "for l in list:\n",
    "    if l[1]==6:\n",
    "        #break\n",
    "        print(l[0])"
   ]
  }
 ],
 "metadata": {
  "kernelspec": {
   "display_name": "Python 3",
   "language": "python",
   "name": "python3"
  },
  "language_info": {
   "codemirror_mode": {
    "name": "ipython",
    "version": 3
   },
   "file_extension": ".py",
   "mimetype": "text/x-python",
   "name": "python",
   "nbconvert_exporter": "python",
   "pygments_lexer": "ipython3",
   "version": "3.10.7"
  },
  "orig_nbformat": 4
 },
 "nbformat": 4,
 "nbformat_minor": 2
}
